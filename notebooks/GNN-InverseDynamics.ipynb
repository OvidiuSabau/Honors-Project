{
 "cells": [
  {
   "cell_type": "code",
   "execution_count": 1,
   "metadata": {},
   "outputs": [
    {
     "name": "stdout",
     "output_type": "stream",
     "text": [
      "Running on the GPU\n"
     ]
    },
    {
     "name": "stderr",
     "output_type": "stream",
     "text": [
      "Using backend: pytorch\n"
     ]
    }
   ],
   "source": [
    "import numpy as np\n",
    "import gym\n",
    "from collections import deque\n",
    "import random\n",
    "import torch.autograd\n",
    "import os\n",
    "import time\n",
    "import torch.optim as optim\n",
    "import torch.nn as nn\n",
    "import torch.nn.functional as F \n",
    "from torch.autograd import Variable\n",
    "import sys\n",
    "import pickle\n",
    "import matplotlib.pyplot as plt\n",
    "import pybullet as p \n",
    "from torch.utils.data.dataloader import DataLoader\n",
    "import pybullet \n",
    "import pybullet_envs.gym_pendulum_envs \n",
    "import pybullet_envs.gym_locomotion_envs\n",
    "if torch.cuda.is_available():\n",
    "    device = torch.device(\"cuda:0\")  # you can continue going on here, like cuda:1 cuda:2....etc. \n",
    "    print(\"Running on the GPU\")\n",
    "else:\n",
    "    device = torch.device(\"cpu\")\n",
    "    print(\"Running on the CPU\")\n",
    "import networkx as nx\n",
    "import dgl"
   ]
  },
  {
   "cell_type": "code",
   "execution_count": 2,
   "metadata": {},
   "outputs": [
    {
     "name": "stdout",
     "output_type": "stream",
     "text": [
      "(1000, 9)\n",
      "(1000, 5)\n"
     ]
    }
   ],
   "source": [
    "prefix = '../datasets/doubleInvertedPendulum'\n",
    "statesDoubleInverted = np.load(prefix + 'Dataset/states_array.npy')[:1000]\n",
    "prefix = '../datasets/invertedPendulum'\n",
    "statesSingleInverted = np.load(prefix + 'Dataset/states_array.npy')[:1000]\n",
    "print(statesDoubleInverted.shape)\n",
    "print(statesSingleInverted.shape)"
   ]
  },
  {
   "cell_type": "code",
   "execution_count": 3,
   "metadata": {},
   "outputs": [],
   "source": [
    "u, v = torch.tensor([0, 1]).to(device), torch.tensor([1, 0]).to(device)\n",
    "g = dgl.graph((u,v))"
   ]
  },
  {
   "cell_type": "code",
   "execution_count": 4,
   "metadata": {},
   "outputs": [
    {
     "data": {
      "image/png": "[encoded data removed]",
      "text/plain": [
       "<Figure size 432x288 with 1 Axes>"
      ]
     },
     "metadata": {},
     "output_type": "display_data"
    }
   ],
   "source": [
    "# Since the actual graph is undirected, we convert it for visualization\n",
    "# purpose.\n",
    "nx_g = g.cpu().to_networkx().to_undirected()\n",
    "# Kamada-Kawaii layout usually looks pretty for arbitrary graphs\n",
    "pos = nx.kamada_kawai_layout(nx_g)\n",
    "nx.draw(nx_g, pos, with_labels=True, node_color=[[.7, .7, .7]])"
   ]
  },
  {
   "cell_type": "code",
   "execution_count": 5,
   "metadata": {},
   "outputs": [],
   "source": [
    "def update_states_in_graph(state, graph):\n",
    "    \n",
    "    if len(state.shape) == 1:\n",
    "        state = state[np.newaxis, ...]\n",
    "    \n",
    "    firstNode = state[:, 0:6][np.newaxis, ...]\n",
    "    secondNode = np.concatenate((state[:, 0:3], state[:, 6:]), -1)[np.newaxis, ...]\n",
    "    nodeData = torch.tensor(np.concatenate((firstNode, secondNode), 0), dtype=torch.float32).to(device)\n",
    "    graph.ndata['state'] = nodeData"
   ]
  },
  {
   "cell_type": "code",
   "execution_count": 23,
   "metadata": {},
   "outputs": [],
   "source": [
    "class Network(nn.Module):\n",
    "    def __init__(\n",
    "        self,\n",
    "        input_size,\n",
    "        output_size,\n",
    "        hidden_sizes\n",
    "    ):\n",
    "        super(Network, self).__init__()\n",
    "        self.hidden_sizes = hidden_sizes\n",
    "        self.input_size = input_size\n",
    "        self.output_size = output_size\n",
    "        \n",
    "        self.layers = nn.ModuleList()\n",
    "        \n",
    "        self.layers.append(nn.Linear(self.input_size, hidden_sizes[0]))\n",
    "        self.layers.append(nn.ReLU())\n",
    "        \n",
    "        for i in range(len(hidden_sizes) - 1):\n",
    "            self.layers.append(nn.Linear(hidden_sizes[i], hidden_sizes[i+1]))\n",
    "            self.layers.append(nn.ReLU())\n",
    "        \n",
    "        self.layers.append(nn.Linear(hidden_sizes[len(hidden_sizes) - 1], self.output_size))\n",
    "        \n",
    "    def forward(self, x):\n",
    "        \n",
    "        for layer in self.layers:\n",
    "            x = layer(x)\n",
    "            \n",
    "        return x"
   ]
  },
  {
   "cell_type": "code",
   "execution_count": 36,
   "metadata": {},
   "outputs": [],
   "source": [
    "messageNetwork = Network(6, 10, [16, 32, 16]).to(device)\n",
    "updateNetwork = Network(16, 6, [16, 32, 16]).to(device)"
   ]
  },
  {
   "cell_type": "code",
   "execution_count": 41,
   "metadata": {},
   "outputs": [],
   "source": [
    "def computeMessage(edges):\n",
    "    return {'m' : messageNetwork(edges.src['state'])}\n",
    "\n",
    "def updateFunction(nodes):\n",
    "    return {'state': updateNetwork(torch.cat((nodes.data['m_hat'], nodes.data['state']), -1))}"
   ]
  },
  {
   "cell_type": "code",
   "execution_count": 48,
   "metadata": {},
   "outputs": [],
   "source": [
    "g.update_all(computeMessage, dgl.function.max('m', 'm_hat'), updateFunction)"
   ]
  },
  {
   "cell_type": "code",
   "execution_count": 43,
   "metadata": {},
   "outputs": [],
   "source": [
    "update_states_in_graph(statesDoubleInverted, g)"
   ]
  },
  {
   "cell_type": "code",
   "execution_count": 50,
   "metadata": {},
   "outputs": [
    {
     "name": "stdout",
     "output_type": "stream",
     "text": [
      "torch.Size([1, 1000, 6])\n"
     ]
    }
   ],
   "source": [
    "print(g.nodes[0].data['state'].shape)"
   ]
  },
  {
   "cell_type": "code",
   "execution_count": null,
   "metadata": {},
   "outputs": [],
   "source": [
    "def GraphNeuralNetwork():\n",
    "    def __init__(\n",
    "        graph,\n",
    "        messageNetwork,\n",
    "        updateNetwork\n",
    "    ):\n",
    "        self.graph = dgl.graph()\n",
    "        self.messageNetwork = messageNetwork\n",
    "        self.updateNetwork = updateNetwork\n",
    "    \n",
    "    def messageFunction(self, edges):\n",
    "        return {'m' : self.messageNetwork(edges.src['state'])}\n",
    "    \n",
    "    def updateFunction(self, nodes):\n",
    "        return {'state': self.updateNetwork(torch.cat((nodes.data['m_hat'], nodes.data['state']), -1))}\n",
    "    \n",
    "    def forward(self, state):\n",
    "        self.update_states_in_graph(state)\n",
    "        \n",
    "        self.graph.update_all(self.sendMessage, dgl.function.max('m', 'm_hat'), updateFunction)\n",
    "        \n",
    "    def update_states_in_graph(self, state):\n",
    "        if len(state.shape) == 1:\n",
    "            state = state[np.newaxis, ...]\n",
    "\n",
    "        firstNode = state[:, 0:6][np.newaxis, ...]\n",
    "        secondNode = np.concatenate((state[:, 0:3], state[:, 6:]), -1)[np.newaxis, ...]\n",
    "        nodeData = torch.tensor(np.concatenate((firstNode, secondNode), 0), dtype=torch.float32).to(device)\n",
    "        self.graph.ndata['state'] = nodeData"
   ]
  }
 ],
 "metadata": {
  "kernelspec": {
   "display_name": "Python 3",
   "language": "python",
   "name": "python3"
  },
  "language_info": {
   "codemirror_mode": {
    "name": "ipython",
    "version": 3
   },
   "file_extension": ".py",
   "mimetype": "text/x-python",
   "name": "python",
   "nbconvert_exporter": "python",
   "pygments_lexer": "ipython3",
   "version": "3.8.5"
  }
 },
 "nbformat": 4,
 "nbformat_minor": 4
}
