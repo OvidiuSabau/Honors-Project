{
 "cells": [
  {
   "cell_type": "code",
   "execution_count": 1,
   "metadata": {
    "id": "yOEKHPQ6JsoQ"
   },
   "outputs": [],
   "source": [
    "import torch\n",
    "import torch.nn as nn"
   ]
  },
  {
   "cell_type": "code",
   "execution_count": 2,
   "metadata": {
    "id": "GeX4P3qHJxtE"
   },
   "outputs": [],
   "source": [
    "class QvalueNetwork(nn.Module):\n",
    "    def __init__(\n",
    "        self,\n",
    "        hidden_sizes,\n",
    "        input_size_state,\n",
    "        input_size_action,\n",
    "        init_w=3e-3,\n",
    "        activation=torch.relu\n",
    "    ):\n",
    "        super().__init__()\n",
    "\n",
    "        self.hidden_sizes = hidden_sizes\n",
    "        input_size = input_size_action + input_size_state\n",
    "\n",
    "        self.input_size = input_size\n",
    "        output_size = 1\n",
    "\n",
    "        self.activation = activation\n",
    "\n",
    "        inp_size = input_size\n",
    "        self._layers = []\n",
    "        for i, out_size in enumerate(self.hidden_sizes):\n",
    "            layer = nn.Linear(inp_size, out_size)\n",
    "            self._layers.append(layer)\n",
    "            inp_size = out_size\n",
    "\n",
    "        self.last_layer = nn.Linear(inp_size, output_size)\n",
    "\n",
    "    def forward(self, state, action):\n",
    "        input = torch.cat((state, action), dim=-1)\n",
    "\n",
    "        for layer in self._layers:\n",
    "            output = layer(input)\n",
    "            output = self.activation(output)\n",
    "            input = output\n",
    "\n",
    "        output = self.last_layer(input)\n",
    "\n",
    "        return output\n",
    "\n",
    "\n",
    "class PolicyNetwork(nn.Module):\n",
    "    def __init__(\n",
    "        self,\n",
    "        hidden_sizes,\n",
    "        output_size,\n",
    "        input_size,\n",
    "        init_w=3e-3,\n",
    "        activation=torch.relu\n",
    "    ):\n",
    "        super().__init__()\n",
    "\n",
    "        self.hidden_sizes = hidden_sizes\n",
    "        self.output_size = output_size\n",
    "        self.input_size = input_size\n",
    "\n",
    "        self.activation = activation\n",
    "\n",
    "        inp_size = input_size\n",
    "        self._layers = []\n",
    "        for i, out_size in enumerate(self.hidden_sizes):\n",
    "            layer = nn.Linear(inp_size, out_size)\n",
    "            self._layers.append(layer)\n",
    "            inp_size = out_size\n",
    "\n",
    "        self.last_layer = nn.Linear(inp_size, output_size)\n",
    "\n",
    "    def forward(self, state):\n",
    "        input = state\n",
    "\n",
    "        for layer in self._layers:\n",
    "            output = layer(input)\n",
    "            output = self.activation(output)\n",
    "            input = output\n",
    "\n",
    "        output = self.last_layer(input)\n",
    "        output = torch.tanh(output)\n",
    "        return output\n",
    "\n",
    "class MessageNetwork(nn.Module):\n",
    "    def __init__(\n",
    "        self,\n",
    "        hidden_sizes,\n",
    "        output_size,\n",
    "        input_size,\n",
    "        init_w=3e-3,\n",
    "        activation=torch.relu\n",
    "    ):\n",
    "        super().__init__()\n",
    "\n",
    "        self.hidden_sizes = hidden_sizes\n",
    "        self.output_size = output_size\n",
    "        self.input_size = input_size\n",
    "\n",
    "        self.activation = activation\n",
    "\n",
    "        inp_size = input_size\n",
    "        self._layers = []\n",
    "        for i, out_size in enumerate(self.hidden_sizes):\n",
    "            layer = nn.Linear(inp_size, out_size)\n",
    "            self._layers.append(layer)\n",
    "            inp_size = out_size\n",
    "\n",
    "        self.last_layer = nn.Linear(inp_size, output_size)\n",
    "\n",
    "    def forward(self, state):\n",
    "        input = state\n",
    "\n",
    "        for layer in self._layers:\n",
    "            output = layer(input)\n",
    "            output = self.activation(output)\n",
    "            input = output\n",
    "\n",
    "        output = self.last_layer(input)\n",
    "        output = torch.tanh(output)\n",
    "        return output"
   ]
  },
  {
   "cell_type": "code",
   "execution_count": 3,
   "metadata": {
    "colab": {
     "base_uri": "https://localhost:8080/"
    },
    "id": "B0LUz3KUKd7i",
    "outputId": "36da702a-d1d7-425a-e5d7-d5d0092f1a18"
   },
   "outputs": [
    {
     "data": {
      "text/plain": [
       "tensor([[-0.0087],\n",
       "        [-0.0739],\n",
       "        [-0.0718],\n",
       "        [-0.0580],\n",
       "        [-0.0807]], grad_fn=<AddmmBackward>)"
      ]
     },
     "execution_count": 3,
     "metadata": {},
     "output_type": "execute_result"
    }
   ],
   "source": [
    "test = QvalueNetwork([200,200], 2, 2)\n",
    "test_state = a = torch.randn(5, 2, dtype=torch.float32)\n",
    "test(test_state, test_state)\n"
   ]
  },
  {
   "cell_type": "code",
   "execution_count": 4,
   "metadata": {
    "colab": {
     "base_uri": "https://localhost:8080/"
    },
    "id": "8tzMJe8dKqqg",
    "outputId": "0c73e9cc-94bf-4de1-d881-d378c838f810"
   },
   "outputs": [
    {
     "data": {
      "text/plain": [
       "tensor([[ 0.0714,  0.0080],\n",
       "        [ 0.0627,  0.0290],\n",
       "        [ 0.0568,  0.0162],\n",
       "        [ 0.0258, -0.0194],\n",
       "        [ 0.0603,  0.0247]], grad_fn=<TanhBackward>)"
      ]
     },
     "execution_count": 4,
     "metadata": {},
     "output_type": "execute_result"
    }
   ],
   "source": [
    "test_policy = PolicyNetwork([200,200], 2, 2)\n",
    "test_policy(test_state)"
   ]
  },
  {
   "cell_type": "markdown",
   "metadata": {
    "id": "320MweckPfyG"
   },
   "source": [
    "Test Pybullet Env\n"
   ]
  },
  {
   "cell_type": "code",
   "execution_count": 5,
   "metadata": {
    "id": "cDpdD8bNNxVR"
   },
   "outputs": [],
   "source": [
    "import pybullet\n",
    "import pybullet_envs\n",
    "import gym\n",
    "import numpy as np\n",
    "import time"
   ]
  },
  {
   "cell_type": "code",
   "execution_count": 6,
   "metadata": {
    "colab": {
     "base_uri": "https://localhost:8080/"
    },
    "id": "9GCSeva8OWMt",
    "outputId": "5a077016-cabb-40f1-a016-bee1080bd7d8"
   },
   "outputs": [
    {
     "name": "stderr",
     "output_type": "stream",
     "text": [
      "/home/ovi/anaconda3/envs/honors-project/lib/python3.8/site-packages/gym/logger.py:30: UserWarning: \u001b[33mWARN: Box bound precision lowered by casting to float32\u001b[0m\n",
      "  warnings.warn(colorize('%s: %s'%('WARN', msg % args), 'yellow'))\n"
     ]
    }
   ],
   "source": [
    "env = gym.make('HalfCheetahBulletEnv-v0')\n",
    "state = env.reset()\n",
    "state = env.step(np.random.uniform(-1,1,size=6))"
   ]
  },
  {
   "cell_type": "code",
   "execution_count": 7,
   "metadata": {
    "colab": {
     "base_uri": "https://localhost:8080/"
    },
    "id": "esXPP9DhOd3b",
    "outputId": "cdcc26f1-c6bf-4e97-be97-ee2e3cf6c876"
   },
   "outputs": [
    {
     "data": {
      "text/plain": [
       "(array([ 7.7637396e-04,  0.0000000e+00,  1.0000000e+00,  1.3323595e-02,\n",
       "         0.0000000e+00,  3.7451446e-02,  0.0000000e+00, -2.1979457e-03,\n",
       "        -2.8491670e-01,  1.2014151e-01, -4.8901629e-02, -1.0379118e-01,\n",
       "        -2.6211509e-01, -5.9825581e-01,  2.9288933e-01, -2.1395943e-01,\n",
       "         7.0723198e-02,  6.0370588e-01,  1.1347100e+00, -3.6393487e-01,\n",
       "         0.0000000e+00,  0.0000000e+00,  0.0000000e+00,  0.0000000e+00,\n",
       "         0.0000000e+00,  0.0000000e+00], dtype=float32),\n",
       " 0.6853017254471632,\n",
       " False,\n",
       " {})"
      ]
     },
     "execution_count": 7,
     "metadata": {},
     "output_type": "execute_result"
    }
   ],
   "source": [
    "state"
   ]
  },
  {
   "cell_type": "markdown",
   "metadata": {
    "id": "zX5NNfMWPiMj"
   },
   "source": [
    "Set up a simple graph"
   ]
  },
  {
   "cell_type": "code",
   "execution_count": 8,
   "metadata": {
    "id": "smkL6FlVPjsI"
   },
   "outputs": [
    {
     "name": "stderr",
     "output_type": "stream",
     "text": [
      "Using backend: pytorch\n"
     ]
    }
   ],
   "source": [
    "import dgl"
   ]
  },
  {
   "cell_type": "code",
   "execution_count": 56,
   "metadata": {
    "id": "40Sg-ZyQPrem"
   },
   "outputs": [
    {
     "name": "stderr",
     "output_type": "stream",
     "text": [
      "/home/ovi/anaconda3/envs/honors-project/lib/python3.8/site-packages/dgl/base.py:45: DGLWarning: Recommend creating graphs by `dgl.graph(data)` instead of `dgl.DGLGraph(data)`.\n",
      "  return warnings.warn(message, category=category, stacklevel=1)\n"
     ]
    }
   ],
   "source": [
    "g = dgl.DGLGraph()\n",
    "g.add_nodes(7)\n",
    "edge_list = [(0,1), (1,2), (2,3), (0,4), (4,5), (5,6)]\n",
    "src, dst = tuple(zip(*edge_list))\n",
    "g.add_edges(src, dst)"
   ]
  },
  {
   "cell_type": "code",
   "execution_count": 57,
   "metadata": {
    "colab": {
     "base_uri": "https://localhost:8080/",
     "height": 319
    },
    "id": "f9F9f7aBQQC_",
    "outputId": "36656c9c-cb3a-4396-82de-553ecaa9b475"
   },
   "outputs": [
    {
     "data": {
      "image/png": "[encoded data removed]",
      "text/plain": [
       "<Figure size 432x288 with 1 Axes>"
      ]
     },
     "metadata": {},
     "output_type": "display_data"
    }
   ],
   "source": [
    "import networkx as nx\n",
    "nx_G = g.to_networkx()\n",
    "# Kamada-Kawaii layout usually looks pretty for arbitrary graphs\n",
    "pos = nx.kamada_kawai_layout(nx_G)\n",
    "nx.draw(nx_G, pos, with_labels=True, node_color=[[.7, .7, .7]])"
   ]
  },
  {
   "cell_type": "code",
   "execution_count": 32,
   "metadata": {
    "id": "zVEqPOEwQQyH"
   },
   "outputs": [],
   "source": [
    "def update_states_in_graph(state, graph):\n",
    "    state_size = state.shape\n",
    "    if len(state_size) == 1:\n",
    "        state = np.expand_dims(state, 0)\n",
    "        state_size = state.shape\n",
    "    batch_size = state_size[0]\n",
    "    root_state = np.expand_dims(np.array(state[:, 0:8]), 0)\n",
    "    joint_states = np.array(state[:, 8:(8+2*6)]).reshape((6, batch_size, 2))\n",
    "    graph.nodes[0].data['root_state'] = torch.from_numpy(root_state)\n",
    "    graph.nodes[list(range(1,7))].data['state'] = torch.from_numpy(joint_states)"
   ]
  },
  {
   "cell_type": "code",
   "execution_count": 61,
   "metadata": {
    "colab": {
     "base_uri": "https://localhost:8080/",
     "height": 282
    },
    "id": "cz2o_W5ATuTD",
    "outputId": "f8e55200-90b7-4107-9c85-46bea6cb9e9f"
   },
   "outputs": [
    {
     "name": "stdout",
     "output_type": "stream",
     "text": [
      "[[ 7.7637396e-04  0.0000000e+00  1.0000000e+00  1.3323595e-02\n",
      "   0.0000000e+00  3.7451446e-02  0.0000000e+00 -2.1979457e-03\n",
      "  -2.8491670e-01  1.2014151e-01 -4.8901629e-02 -1.0379118e-01\n",
      "  -2.6211509e-01 -5.9825581e-01  2.9288933e-01 -2.1395943e-01\n",
      "   7.0723198e-02  6.0370588e-01  1.1347100e+00 -3.6393487e-01\n",
      "   0.0000000e+00  0.0000000e+00  0.0000000e+00  0.0000000e+00\n",
      "   0.0000000e+00  0.0000000e+00]]\n",
      "***\n",
      "[[[ 7.7637396e-04  0.0000000e+00  1.0000000e+00  1.3323595e-02\n",
      "    0.0000000e+00  3.7451446e-02  0.0000000e+00 -2.1979457e-03]]]\n",
      "***\n",
      "[[[-0.2849167   0.12014151]]\n",
      "\n",
      " [[-0.04890163 -0.10379118]]\n",
      "\n",
      " [[-0.2621151  -0.5982558 ]]\n",
      "\n",
      " [[ 0.29288933 -0.21395943]]\n",
      "\n",
      " [[ 0.0707232   0.6037059 ]]\n",
      "\n",
      " [[ 1.13471    -0.36393487]]]\n",
      "***\n"
     ]
    }
   ],
   "source": [
    "a = state[0][np.newaxis, ...]\n",
    "print(a)\n",
    "print('***')\n",
    "root_state = np.array(a[:, 0:8])[np.newaxis, ...]\n",
    "print(root_state)\n",
    "print('***')\n",
    "joint_states = np.array(a[:, 8:(8+2*6)]).reshape((6, 1, 2))\n",
    "print(joint_states)\n",
    "print('***')\n",
    "g.nodes[0].data['root_state'] = torch.from_numpy(root_state)\n",
    "g.nodes[list(range(1,7))].data['state'] = torch.from_numpy(joint_states)"
   ]
  },
  {
   "cell_type": "code",
   "execution_count": 64,
   "metadata": {
    "id": "3p5q1BcUT0Ak"
   },
   "outputs": [
    {
     "name": "stdout",
     "output_type": "stream",
     "text": [
      "{'root_state': tensor([[[ 7.7637e-04,  0.0000e+00,  1.0000e+00,  1.3324e-02,  0.0000e+00,\n",
      "           3.7451e-02,  0.0000e+00, -2.1979e-03]]]), 'state': tensor([[[0., 0.]]])}\n"
     ]
    }
   ],
   "source": [
    "print(g.nodes[2].data)"
   ]
  },
  {
   "cell_type": "code",
   "execution_count": null,
   "metadata": {
    "id": "dd1CPrSrVcQk"
   },
   "outputs": [],
   "source": [
    "def gcn_message(edges):\n",
    "    # The argument is a batch of edges.\n",
    "    # This computes a (batch of) message called 'msg' using the source node's feature 'h'.\n",
    "    return {'msg' : edges.src['h_out']}\n",
    "\n",
    "def gcn_reduce(nodes):\n",
    "    # The argument is a batch of nodes.\n",
    "    # This computes the new 'h' features by summing received 'msg' in each node's mailbox.\n",
    "    return {'h_in' : torch.sum(nodes.mailbox['msg'], dim=1)}\n",
    "\n",
    "def gcn_message_trainer(edges):\n",
    "    # The argument is a batch of edges.\n",
    "    # This computes a (batch of) message called 'msg' using the source node's feature 'h'.\n",
    "    return {'msg' : edges.src['h_out'], 'msg_t': edges.src['h_out_t']}\n",
    "\n",
    "def gcn_reduce_trainer(nodes):\n",
    "    # The argument is a batch of nodes.\n",
    "    # This computes the new 'h' features by summing received 'msg' in each node's mailbox.\n",
    "    return {'h_in' : torch.sum(nodes.mailbox['msg'], dim=1), 'h_in_t' : torch.sum(nodes.mailbox['msg_t'], dim=1)}"
   ]
  },
  {
   "cell_type": "code",
   "execution_count": 34,
   "metadata": {
    "id": "6sRNSyaYWyhs"
   },
   "outputs": [],
   "source": [
    "class GCNLayer(nn.Module):\n",
    "    def __init__(self, policy, value, message_root, message):\n",
    "        super(GCNLayer, self).__init__()\n",
    "        self._policy = policy\n",
    "        self._value =  value\n",
    "        self._message_root = message_root\n",
    "        self._message = message\n",
    "\n",
    "    def apply_policy(self, nodes):\n",
    "        return {'action': self._policy(torch.cat((nodes.data['state'], nodes.data['h_in']), -1))}\n",
    "    \n",
    "    def apply_value(self, nodes):\n",
    "        return {'value': self._value(torch.cat((nodes.data['state'], nodes.data['h_in']), -1), nodes.data['action'])}\n",
    "\n",
    "    def forward(self, graph, state):\n",
    "        self.update_states_in_graph(state, graph)\n",
    "        graph.nodes[0].data['h_out'] = self._message_root(graph.nodes[0].data['root_state'])\n",
    "        graph.nodes[list(range(1,7))].data['h_out'] = self._message(torch.cat((graph.nodes[list(range(1,7))].data['state'], graph.nodes[list(range(1,7))].data['h_in']), -1))\n",
    "        # trigger message passing on all edges\n",
    "        graph.send(graph.edges(), gcn_message)\n",
    "        # trigger aggregation at all nodes\n",
    "        graph.recv(graph.nodes(), gcn_reduce)\n",
    "\n",
    "        graph.apply_nodes(func=self.apply_policy)\n",
    "        graph.apply_nodes(func=self.apply_value)\n",
    "\n",
    "        # get the result node features\n",
    "        action = graph.nodes[list(range(1,7))].data['action']\n",
    "        value = graph.nodes[list(range(1,7))].data['value']\n",
    "        # perform linear transformation\n",
    "        return action, value\n",
    "    \n",
    "    def reset(self, graph, batch_size):\n",
    "        graph.ndata['h_in'] = torch.zeros(size=(7, batch_size, 16))\n",
    "        graph.ndata['h_out'] = torch.zeros(size=(7, batch_size, 16))\n",
    "\n",
    "    def update_states_in_graph(self, state, graph):\n",
    "        state_size = state.shape\n",
    "        if len(state_size) == 1:\n",
    "            state = np.expand_dims(state, 0)\n",
    "            state_size = state.shape\n",
    "        batch_size = state_size[0]\n",
    "        root_state = np.expand_dims(np.array(state[:, 0:8]), 0)\n",
    "        # joint_states = np.array(state_t[:, 8:(8+2*6)]).reshape((6, batch_size, 2))\n",
    "        state_new = []\n",
    "        for i in range(6):\n",
    "            start_idx = 8 + 2* i\n",
    "            end_idx = 8 + 2*i + 2\n",
    "            state_new.append(state[:, start_idx:end_idx])\n",
    "        joint_states = np.array(state_new)\n",
    "        graph.nodes[0].data['root_state'] = torch.from_numpy(root_state)\n",
    "        graph.nodes[list(range(1,7))].data['state'] = torch.from_numpy(joint_states)\n",
    "\n",
    "class GCNLayerTrainer(nn.Module):\n",
    "    def __init__(self, policy, value, message_root, message, policy_target, value_target):\n",
    "        super(GCNLayerTrainer, self).__init__()\n",
    "        self._policy = policy\n",
    "        self._value =  value\n",
    "        self._message_root = message_root\n",
    "        self._message = message\n",
    "        self._policy_target = policy_target\n",
    "        self._value_target = value_target\n",
    "\n",
    "    def apply_policy(self, nodes):\n",
    "        return {'action': self._policy(torch.cat((nodes.data['state'], nodes.data['h_in']), -1)), 'action_t': self._policy_target(torch.cat((nodes.data['state_t'], nodes.data['h_in_t']), -1))}\n",
    "    \n",
    "    def apply_value(self, nodes):\n",
    "        return {'value': self._value(torch.cat((nodes.data['state'], nodes.data['h_in']), -1), nodes.data['action']), # this is Q(s,mu(s))\n",
    "                'value_t': self._value_target(torch.cat((nodes.data['state_t'], nodes.data['h_in_t'].detach()), -1), nodes.data['action_t'].detach())} # this is Q(s_t, mu(s_t))\n",
    "\n",
    "    def apply_action_value(self, nodes):\n",
    "        return {'value_trans_taken': self._value(torch.cat((nodes.data['state'], nodes.data['h_in']), -1), nodes.data['action_batch'])} # this is Q(s_tm, batch_action)\n",
    "\n",
    "    def forward(self, graph, state_tm, action, state_t):\n",
    "        self._update_states_in_graph(state_tm, action, state_t, graph)\n",
    "        graph.nodes[0].data['h_out'] = self._message_root(graph.nodes[0].data['root_state'])\n",
    "        graph.nodes[list(range(1,7))].data['h_out'] = self._message(torch.cat((graph.nodes[list(range(1,7))].data['state'], graph.nodes[list(range(1,7))].data['h_in']), -1))\n",
    "        # trigger message passing on all edges\n",
    "        graph.send(graph.edges(), gcn_message_trainer)\n",
    "        # trigger aggregation at all nodes\n",
    "        graph.recv(graph.nodes(), gcn_reduce_trainer)\n",
    "\n",
    "        graph.apply_nodes(func=self.apply_policy)\n",
    "        graph.apply_nodes(func=self.apply_value)\n",
    "        graph.apply_nodes(func=self.apply_action_value)\n",
    "\n",
    "        # get the result node features\n",
    "        value_a_batch = graph.nodes[list(range(1,7))].data['value_trans_taken']\n",
    "        action_value = graph.nodes[list(range(1,7))].data['value']\n",
    "        future_value = graph.nodes[list(range(1,7))].data['value_t']\n",
    "        # perform linear transformation\n",
    "        return value_a_batch, action_value, future_value # Q(s_tm, batch_action), Q(s,mu(s)), Q(s_t, mu(s_t))\n",
    "    \n",
    "    def reset(self, graph, batch_size):\n",
    "        graph.ndata['h_in'] = torch.zeros(size=(7, batch_size, 16), dtype=torch.float32)\n",
    "        graph.ndata['h_out'] = torch.zeros(size=(7, batch_size, 16), dtype=torch.float32)\n",
    "        graph.ndata['h_in_t'] = torch.zeros(size=(7, batch_size, 16), dtype=torch.float32)\n",
    "        graph.ndata['h_out_t'] = torch.zeros(size=(7, batch_size, 16), dtype=torch.float32)\n",
    "\n",
    "    # def _update_states_in_graph(self, state_tm1, action, state_t, graph):\n",
    "    #   state_size = state_tm1.shape\n",
    "    #   if len(state_size) == 1:\n",
    "    #     state_tm1 = np.expand_dims(state_tm1, 0)\n",
    "    #     state_size = state_tm1.shape\n",
    "    #   batch_size = state_size[0]\n",
    "    #   root_state = np.expand_dims(np.array(state_tm1[:, 0:8]), 0)\n",
    "    #   joint_states = np.array(state_tm1[:, 8:(8+2*6)]).reshape((6, batch_size, 2))\n",
    "    #   graph.nodes[0].data['root_state'] = torch.from_numpy(root_state)\n",
    "    #   graph.nodes[list(range(1,7))].data['state'] = torch.from_numpy(joint_states)\n",
    "    #   ##############\n",
    "    #   state_size = state_t.shape\n",
    "    #   if len(state_size) == 1:\n",
    "    #     state_t = np.expand_dims(state_t, 0)\n",
    "    #     state_size = state_t.shape\n",
    "    #   batch_size = state_size[0]\n",
    "    #   root_state = np.expand_dims(np.array(state_t[:, 0:8]), 0)\n",
    "    #   joint_states = np.array(state_t[:, 8:(8+2*6)]).reshape((6, batch_size, 2))\n",
    "    #   graph.nodes[0].data['root_state_t'] = torch.from_numpy(root_state)\n",
    "    #   graph.nodes[list(range(1,7))].data['state_t'] = torch.from_numpy(joint_states)\n",
    "    #   #############\n",
    "    #   if len(state_size) == 1:\n",
    "    #     action = np.expand_dims(action,0)\n",
    "    #   #action = action.reshape(6, batch_size, )\n",
    "    #   action = action.transpose()\n",
    "    #   action = np.expand_dims(action, -1)\n",
    "    #   graph.nodes[list(range(1,7))].data['action_batch'] = torch.from_numpy(action)\n",
    "    def _update_states_in_graph(self, state_tm1, action, state_t, graph):\n",
    "        state_size = state_tm1.shape\n",
    "        if len(state_size) == 1:\n",
    "            state_tm1 = np.expand_dims(state_tm1, 0)\n",
    "            state_size = state_tm1.shape\n",
    "        batch_size = state_size[0]\n",
    "        root_state = np.expand_dims(np.array(state_tm1[:, 0:8]), 0)\n",
    "        # joint_states = np.array(state_tm1[:, 8:(8+2*6)]).reshape((6, batch_size, 2))\n",
    "        state_new = []\n",
    "        for i in range(6):\n",
    "            start_idx = 8 + 2* i\n",
    "            end_idx = 8 + 2*i + 2\n",
    "            state_new.append(state_tm1[:, start_idx:end_idx])\n",
    "        joint_states = np.array(state_new)\n",
    "        graph.nodes[0].data['root_state'] = torch.from_numpy(root_state)\n",
    "        graph.nodes[list(range(1,7))].data['state'] = torch.from_numpy(joint_states)\n",
    "        ##############\n",
    "        state_size = state_t.shape\n",
    "        if len(state_size) == 1:\n",
    "            state_t = np.expand_dims(state_t, 0)\n",
    "            state_size = state_t.shape\n",
    "        batch_size = state_size[0]\n",
    "        root_state = np.expand_dims(np.array(state_t[:, 0:8]), 0)\n",
    "        # joint_states = np.array(state_t[:, 8:(8+2*6)]).reshape((6, batch_size, 2))\n",
    "        state_new = []\n",
    "        for i in range(6):\n",
    "            start_idx = 8 + 2* i\n",
    "            end_idx = 8 + 2*i + 2\n",
    "            state_new.append(state_t[:, start_idx:end_idx])\n",
    "        joint_states = np.array(state_new)\n",
    "        graph.nodes[0].data['root_state_t'] = torch.from_numpy(root_state)\n",
    "        graph.nodes[list(range(1,7))].data['state_t'] = torch.from_numpy(joint_states)\n",
    "        #############\n",
    "        if len(state_size) == 1:\n",
    "            action = np.expand_dims(action,0)\n",
    "        #action = action.reshape(6, batch_size, )\n",
    "        action = action.transpose()\n",
    "        action = np.expand_dims(action, -1)\n",
    "        graph.nodes[list(range(1,7))].data['action_batch'] = torch.from_numpy(action)"
   ]
  },
  {
   "cell_type": "code",
   "execution_count": 35,
   "metadata": {
    "id": "-fHA8X-FcJQc"
   },
   "outputs": [
    {
     "ename": "TypeError",
     "evalue": "__init__() missing 4 required positional arguments: 'policy', 'value', 'message_root', and 'message'",
     "output_type": "error",
     "traceback": [
      "\u001b[0;31m---------------------------------------------------------------------------\u001b[0m",
      "\u001b[0;31mTypeError\u001b[0m                                 Traceback (most recent call last)",
      "\u001b[0;32m<ipython-input-35-b920ebc3dd29>\u001b[0m in \u001b[0;36m<module>\u001b[0;34m\u001b[0m\n\u001b[0;32m----> 1\u001b[0;31m \u001b[0mtest\u001b[0m \u001b[0;34m=\u001b[0m \u001b[0mGCNLayer\u001b[0m\u001b[0;34m(\u001b[0m\u001b[0;34m)\u001b[0m\u001b[0;34m\u001b[0m\u001b[0;34m\u001b[0m\u001b[0m\n\u001b[0m\u001b[1;32m      2\u001b[0m \u001b[0mtest\u001b[0m\u001b[0;34m.\u001b[0m\u001b[0mreset\u001b[0m\u001b[0;34m(\u001b[0m\u001b[0mg\u001b[0m\u001b[0;34m,\u001b[0m \u001b[0;36m1\u001b[0m\u001b[0;34m)\u001b[0m\u001b[0;34m\u001b[0m\u001b[0;34m\u001b[0m\u001b[0m\n\u001b[1;32m      3\u001b[0m \u001b[0ma\u001b[0m \u001b[0;34m=\u001b[0m \u001b[0mtime\u001b[0m\u001b[0;34m.\u001b[0m\u001b[0mtime\u001b[0m\u001b[0;34m(\u001b[0m\u001b[0;34m)\u001b[0m\u001b[0;34m\u001b[0m\u001b[0;34m\u001b[0m\u001b[0m\n\u001b[1;32m      4\u001b[0m \u001b[0;32mfor\u001b[0m \u001b[0mi\u001b[0m \u001b[0;32min\u001b[0m \u001b[0mrange\u001b[0m\u001b[0;34m(\u001b[0m\u001b[0;36m5\u001b[0m\u001b[0;34m)\u001b[0m\u001b[0;34m:\u001b[0m\u001b[0;34m\u001b[0m\u001b[0;34m\u001b[0m\u001b[0m\n\u001b[1;32m      5\u001b[0m     \u001b[0maction\u001b[0m\u001b[0;34m,\u001b[0m \u001b[0mvalue\u001b[0m \u001b[0;34m=\u001b[0m \u001b[0mtest\u001b[0m\u001b[0;34m(\u001b[0m\u001b[0mg\u001b[0m\u001b[0;34m,\u001b[0m \u001b[0mstate\u001b[0m\u001b[0;34m)\u001b[0m\u001b[0;34m\u001b[0m\u001b[0;34m\u001b[0m\u001b[0m\n",
      "\u001b[0;31mTypeError\u001b[0m: __init__() missing 4 required positional arguments: 'policy', 'value', 'message_root', and 'message'"
     ]
    }
   ],
   "source": [
    "test = GCNLayer()\n",
    "test.reset(g, 1)\n",
    "a = time.time()\n",
    "for i in range(5):\n",
    "    action, value = test(g, state)\n",
    "print(a - time.time())\n",
    "print(action.shape)\n",
    "print(value.shape)\n",
    "a = np.squeeze(action.data.numpy())\n",
    "env.step(a)"
   ]
  },
  {
   "cell_type": "code",
   "execution_count": null,
   "metadata": {
    "id": "JQ4MMT3ucPki"
   },
   "outputs": [],
   "source": [
    "states_tmp = np.expand_dims(state, 0)\n",
    "states_2 = np.concatenate((states_tmp, states_tmp), 0)"
   ]
  },
  {
   "cell_type": "code",
   "execution_count": null,
   "metadata": {
    "id": "k4NPXTzgt1_P"
   },
   "outputs": [],
   "source": [
    "test2 = GCNLayer()\n",
    "g2 = dgl.DGLGraph()\n",
    "g2.add_nodes(7)\n",
    "edge_list = [(0,1), (1,2), (2,3), (0,4), (4,5), (5,6)]\n",
    "src, dst = tuple(zip(*edge_list))\n",
    "g2.add_edges(src, dst)\n",
    "test2.reset(g2, 2)\n",
    "print(states_2.shape)\n",
    "for i in range(5):\n",
    "  action, value = test2(g2, states_2)\n",
    "print(action.shape)\n",
    "print(value.shape)\n",
    "a = np.squeeze(action.data.numpy())\n",
    "a = a.transpose()\n",
    "print(a)\n"
   ]
  },
  {
   "cell_type": "code",
   "execution_count": null,
   "metadata": {
    "id": "PR-Q-RTCt206"
   },
   "outputs": [],
   "source": [
    "policy_network = PolicyNetwork(hidden_sizes=[200,200], output_size=1, input_size=(2+16))\n",
    "q_network = QvalueNetwork(hidden_sizes=[200,200], input_size_state=2+16, input_size_action=1)\n",
    "policy_network_target = PolicyNetwork(hidden_sizes=[200,200], output_size=1, input_size=(2+16))\n",
    "q_network_target = QvalueNetwork(hidden_sizes=[200,200], input_size_state=2+16, input_size_action=1)\n",
    "message_root_network = MessageNetwork(hidden_sizes=[200, 200], output_size=16, input_size=8)\n",
    "message_network = MessageNetwork(hidden_sizes=[200, 200], output_size=16, input_size=(2+16))\n",
    "\n",
    "def soft_update_from_to(source, target, tau):\n",
    "    for target_param, param in zip(target.parameters(), source.parameters()):\n",
    "        target_param.data.copy_(\n",
    "            target_param.data * (1.0 - tau) + param.data * tau\n",
    "        )\n",
    "soft_update_from_to(policy_network, policy_network_target, 1.0)\n",
    "soft_update_from_to(q_network, q_network_target, 1.0)"
   ]
  },
  {
   "cell_type": "code",
   "execution_count": null,
   "metadata": {
    "id": "DWUTgwKWAtJm"
   },
   "outputs": [],
   "source": [
    "test_training = GCNLayerTrainer(policy=policy_network, value=q_network, message_root=message_root_network, message=message_network, policy_target=policy_network_target, value_target=q_network_target)\n"
   ]
  },
  {
   "cell_type": "code",
   "execution_count": null,
   "metadata": {
    "id": "mU_9eDNzBF7E"
   },
   "outputs": [],
   "source": [
    "states_tmp = np.expand_dims(state, 0)\n",
    "states_2 = np.concatenate([states_tmp] * 32, 0)\n",
    "\n",
    "g_train = dgl.DGLGraph()\n",
    "g_train.add_nodes(7)\n",
    "edge_list = [(0,1), (1,2), (2,3), (0,4), (4,5), (5,6)]\n",
    "src, dst = tuple(zip(*edge_list))\n",
    "g_train.add_edges(src, dst)\n",
    "test_training.reset(g_train, 32)\n",
    "action = np.random.uniform(-1, 1, size=(32,6)).astype(dtype=np.float32)\n",
    "a = time.time()\n",
    "for i in range(5):\n",
    "  value_a_batch, action_value, future_value = test_training(g_train, states_2, action, states_2)\n",
    "print(time.time() - a)\n",
    "print(value_a_batch.shape)"
   ]
  },
  {
   "cell_type": "code",
   "execution_count": null,
   "metadata": {
    "id": "-YXfxnbMBp5k"
   },
   "outputs": [],
   "source": [
    "import abc\n",
    "\n",
    "\n",
    "class ReplayBuffer(object, metaclass=abc.ABCMeta):\n",
    "    \"\"\"\n",
    "    A class used to save and replay data.\n",
    "    \"\"\"\n",
    "\n",
    "    @abc.abstractmethod\n",
    "    def add_sample(self, observation, action, reward, next_observation,\n",
    "                   terminal, **kwargs):\n",
    "        \"\"\"\n",
    "        Add a transition tuple.\n",
    "        \"\"\"\n",
    "        pass\n",
    "\n",
    "    @abc.abstractmethod\n",
    "    def terminate_episode(self):\n",
    "        \"\"\"\n",
    "        Let the replay buffer know that the episode has terminated in case some\n",
    "        special book-keeping has to happen.\n",
    "        :return:\n",
    "        \"\"\"\n",
    "        pass\n",
    "\n",
    "    @abc.abstractmethod\n",
    "    def num_steps_can_sample(self, **kwargs):\n",
    "        \"\"\"\n",
    "        :return: # of unique items that can be sampled.\n",
    "        \"\"\"\n",
    "        pass\n",
    "\n",
    "    def add_path(self, path):\n",
    "        \"\"\"\n",
    "        Add a path to the replay buffer.\n",
    "        This default implementation naively goes through every step, but you\n",
    "        may want to optimize this.\n",
    "        NOTE: You should NOT call \"terminate_episode\" after calling add_path.\n",
    "        It's assumed that this function handles the episode termination.\n",
    "        :param path: Dict like one outputted by rlkit.samplers.util.rollout\n",
    "        \"\"\"\n",
    "        for i, (\n",
    "                obs,\n",
    "                action,\n",
    "                reward,\n",
    "                next_obs,\n",
    "                terminal,\n",
    "                agent_info,\n",
    "                env_info\n",
    "        ) in enumerate(zip(\n",
    "            path[\"observations\"],\n",
    "            path[\"actions\"],\n",
    "            path[\"rewards\"],\n",
    "            path[\"next_observations\"],\n",
    "            path[\"terminals\"],\n",
    "            path[\"agent_infos\"],\n",
    "            path[\"env_infos\"],\n",
    "        )):\n",
    "            self.add_sample(\n",
    "                observation=obs,\n",
    "                action=action,\n",
    "                reward=reward,\n",
    "                next_observation=next_obs,\n",
    "                terminal=terminal,\n",
    "                agent_info=agent_info,\n",
    "                env_info=env_info,\n",
    "            )\n",
    "        self.terminate_episode()\n",
    "\n",
    "    def add_paths(self, paths):\n",
    "        for path in paths:\n",
    "            self.add_path(path)\n",
    "\n",
    "    @abc.abstractmethod\n",
    "    def random_batch(self, batch_size):\n",
    "        \"\"\"\n",
    "        Return a batch of size `batch_size`.\n",
    "        :param batch_size:\n",
    "        :return:\n",
    "        \"\"\"\n",
    "        pass\n",
    "\n",
    "    def get_diagnostics(self):\n",
    "        return {}\n",
    "\n",
    "    def get_snapshot(self):\n",
    "        return {}\n",
    "\n",
    "    def end_epoch(self, epoch):\n",
    "        return\n",
    "  \n",
    "from collections import OrderedDict\n",
    "\n",
    "import numpy as np\n",
    "\n",
    "\n",
    "class SimpleReplayBuffer(ReplayBuffer):\n",
    "\n",
    "    def __init__(\n",
    "        self,\n",
    "        max_replay_buffer_size,\n",
    "        observation_dim,\n",
    "        action_dim,\n",
    "        env_info_sizes,\n",
    "    ):\n",
    "        self._observation_dim = observation_dim\n",
    "        self._action_dim = action_dim\n",
    "        self._max_replay_buffer_size = max_replay_buffer_size\n",
    "        self._observations = np.zeros((max_replay_buffer_size, observation_dim))\n",
    "        # It's a bit memory inefficient to save the observations twice,\n",
    "        # but it makes the code *much* easier since you no longer have to\n",
    "        # worry about termination conditions.\n",
    "        self._next_obs = np.zeros((max_replay_buffer_size, observation_dim))\n",
    "        self._actions = np.zeros((max_replay_buffer_size, action_dim))\n",
    "        # Make everything a 2D np array to make it easier for other code to\n",
    "        # reason about the shape of the data\n",
    "        self._rewards = np.zeros((max_replay_buffer_size, 1))\n",
    "        # self._terminals[i] = a terminal was received at time i\n",
    "        self._terminals = np.zeros((max_replay_buffer_size, 1), dtype='uint8')\n",
    "        # Define self._env_infos[key][i] to be the return value of env_info[key]\n",
    "        # at time i\n",
    "        self._env_infos = {}\n",
    "        for key, size in env_info_sizes.items():\n",
    "            self._env_infos[key] = np.zeros((max_replay_buffer_size, size))\n",
    "        self._env_info_keys = env_info_sizes.keys()\n",
    "\n",
    "        self._top = 0\n",
    "        self._size = 0\n",
    "\n",
    "    def add_sample(self, observation, action, reward, next_observation,\n",
    "                   terminal, env_info, **kwargs):\n",
    "        self._observations[self._top] = observation\n",
    "        self._actions[self._top] = action\n",
    "        self._rewards[self._top] = reward\n",
    "        self._terminals[self._top] = terminal\n",
    "        self._next_obs[self._top] = next_observation\n",
    "\n",
    "        for key in self._env_info_keys:\n",
    "            self._env_infos[key][self._top] = env_info[key]\n",
    "        self._advance()\n",
    "\n",
    "    def terminate_episode(self):\n",
    "        pass\n",
    "\n",
    "    def _advance(self):\n",
    "        self._top = (self._top + 1) % self._max_replay_buffer_size\n",
    "        if self._size < self._max_replay_buffer_size:\n",
    "            self._size += 1\n",
    "\n",
    "    def random_batch(self, batch_size):\n",
    "        indices = np.random.randint(0, self._size, batch_size)\n",
    "        batch = dict(\n",
    "            observations=self._observations[indices],\n",
    "            actions=self._actions[indices],\n",
    "            rewards=self._rewards[indices],\n",
    "            terminals=self._terminals[indices],\n",
    "            next_observations=self._next_obs[indices],\n",
    "        )\n",
    "        for key in self._env_info_keys:\n",
    "            assert key not in batch.keys()\n",
    "            batch[key] = self._env_infos[key][indices]\n",
    "        return batch\n",
    "\n",
    "    def rebuild_env_info_dict(self, idx):\n",
    "        return {\n",
    "            key: self._env_infos[key][idx]\n",
    "            for key in self._env_info_keys\n",
    "        }\n",
    "\n",
    "    def batch_env_info_dict(self, indices):\n",
    "        return {\n",
    "            key: self._env_infos[key][indices]\n",
    "            for key in self._env_info_keys\n",
    "        }\n",
    "\n",
    "    def num_steps_can_sample(self):\n",
    "        return self._size\n",
    "\n",
    "    def get_diagnostics(self):\n",
    "        return OrderedDict([\n",
    "            ('size', self._size)\n",
    "        ])\n",
    "\n",
    "\n",
    "from gym.spaces import Discrete\n",
    "from gym.spaces import Box, Discrete, Tuple\n",
    "\n",
    "def get_dim(space):\n",
    "    if isinstance(space, Box):\n",
    "        return space.low.size\n",
    "    elif isinstance(space, Discrete):\n",
    "        return space.n\n",
    "    elif isinstance(space, Tuple):\n",
    "        return sum(get_dim(subspace) for subspace in space.spaces)\n",
    "    elif hasattr(space, 'flat_dim'):\n",
    "        return space.flat_dim\n",
    "    else:\n",
    "        raise TypeError(\"Unknown space: {}\".format(space))\n",
    "\n",
    "class EnvReplayBuffer(SimpleReplayBuffer):\n",
    "    def __init__(\n",
    "            self,\n",
    "            max_replay_buffer_size,\n",
    "            env,\n",
    "            env_info_sizes=None\n",
    "    ):\n",
    "        \"\"\"\n",
    "        :param max_replay_buffer_size:\n",
    "        :param env:\n",
    "        \"\"\"\n",
    "        self.env = env\n",
    "        self._ob_space = env.observation_space\n",
    "        self._action_space = env.action_space\n",
    "\n",
    "        if env_info_sizes is None:\n",
    "            if hasattr(env, 'info_sizes'):\n",
    "                env_info_sizes = env.info_sizes\n",
    "            else:\n",
    "                env_info_sizes = dict()\n",
    "\n",
    "        super().__init__(\n",
    "            max_replay_buffer_size=max_replay_buffer_size,\n",
    "            observation_dim=get_dim(self._ob_space),\n",
    "            action_dim=get_dim(self._action_space),\n",
    "            env_info_sizes=env_info_sizes\n",
    "        )\n",
    "\n",
    "    def add_sample(self, observation, action, reward, terminal,\n",
    "                   next_observation, **kwargs):\n",
    "        if isinstance(self._action_space, Discrete):\n",
    "            new_action = np.zeros(self._action_dim)\n",
    "            new_action[action] = 1\n",
    "        else:\n",
    "            new_action = action\n",
    "        return super().add_sample(\n",
    "            observation=observation,\n",
    "            action=new_action,\n",
    "            reward=reward,\n",
    "            next_observation=next_observation,\n",
    "            terminal=terminal,\n",
    "            **kwargs\n",
    "        )"
   ]
  },
  {
   "cell_type": "code",
   "execution_count": null,
   "metadata": {
    "id": "S1dV9NrSUaN-"
   },
   "outputs": [],
   "source": [
    "\n",
    "\n",
    "def get_optimizer(policy, value, message, message_root):\n",
    "  policy_optimizer = torch.optim.Adam( list(policy.parameters()) + list(message.parameters()) + list(message_root.parameters()),lr=1e-3)\n",
    "  value_optimizer = torch.optim.Adam(list(value.parameters()), lr=1e-3) # + list(message.parameters()) + list(message_root.parameters()\n",
    "  \n",
    "  return policy_optimizer, value_optimizer\n",
    "\n",
    "def training(policy, value, message, graph, graph_trainer, replay, policy_optimizer, value_optimizer, policy_target, value_target):\n",
    "        batch = replay.random_batch(32)\n",
    "        rewards = batch['rewards'].astype(dtype=np.float32)\n",
    "        rewards = torch.from_numpy(rewards)\n",
    "        terminals = batch['rewards'].astype(dtype=np.float32)\n",
    "        terminals = torch.from_numpy(terminals)\n",
    "        states = batch['observations'].astype(dtype=np.float32)\n",
    "        actions = batch['actions'].astype(dtype=np.float32)\n",
    "        states_t = batch['next_observations'].astype(dtype=np.float32)\n",
    "\n",
    "        graph_trainer.reset(graph, 32)\n",
    "\n",
    "        for i in range(5):\n",
    "          value_a_batch, action_value, future_value = graph_trainer(graph, states, actions, states_t)\n",
    "        \n",
    "        loss_policy = -action_value.mean()\n",
    "\n",
    "        future_value = future_value\n",
    "        q_target = rewards + (1.-terminals) * 0.95 * future_value\n",
    "        q_target = q_target.detach()\n",
    "        loss_q = torch.sqrt(((value_a_batch - q_target)**2)).mean()\n",
    "\n",
    "\n",
    "        policy_optimizer.zero_grad()\n",
    "        loss_policy.backward(retain_graph=True)\n",
    "        #loss_policy.backward()\n",
    "        policy_optimizer.step()\n",
    "\n",
    "        value_optimizer.zero_grad()\n",
    "        loss_q.backward()\n",
    "        value_optimizer.step()\n",
    "\n",
    "        soft_update_from_to(policy_network, policy_target, 0.05)\n",
    "        soft_update_from_to(value, value_target, 0.05)\n"
   ]
  },
  {
   "cell_type": "code",
   "execution_count": 1,
   "metadata": {
    "colab": {
     "base_uri": "https://localhost:8080/",
     "height": 237
    },
    "id": "GbOFiUUWZvyY",
    "outputId": "65e11496-2d31-45b6-d01a-866049414f14"
   },
   "outputs": [
    {
     "ename": "NameError",
     "evalue": "ignored",
     "output_type": "error",
     "traceback": [
      "\u001b[0;31m---------------------------------------------------------------------------\u001b[0m",
      "\u001b[0;31mNameError\u001b[0m                                 Traceback (most recent call last)",
      "\u001b[0;32m<ipython-input-1-94b2b5e3aaa5>\u001b[0m in \u001b[0;36m<module>\u001b[0;34m()\u001b[0m\n\u001b[1;32m      1\u001b[0m \u001b[0;31m# Collect some random data\u001b[0m\u001b[0;34m\u001b[0m\u001b[0;34m\u001b[0m\u001b[0;34m\u001b[0m\u001b[0m\n\u001b[0;32m----> 2\u001b[0;31m \u001b[0menv\u001b[0m \u001b[0;34m=\u001b[0m \u001b[0mgym\u001b[0m\u001b[0;34m.\u001b[0m\u001b[0mmake\u001b[0m\u001b[0;34m(\u001b[0m\u001b[0;34m'HalfCheetahBulletEnv-v0'\u001b[0m\u001b[0;34m)\u001b[0m\u001b[0;34m\u001b[0m\u001b[0;34m\u001b[0m\u001b[0m\n\u001b[0m\u001b[1;32m      3\u001b[0m \u001b[0mstate\u001b[0m \u001b[0;34m=\u001b[0m \u001b[0menv\u001b[0m\u001b[0;34m.\u001b[0m\u001b[0mreset\u001b[0m\u001b[0;34m(\u001b[0m\u001b[0;34m)\u001b[0m\u001b[0;34m\u001b[0m\u001b[0;34m\u001b[0m\u001b[0m\n\u001b[1;32m      4\u001b[0m \u001b[0;34m\u001b[0m\u001b[0m\n\u001b[1;32m      5\u001b[0m \u001b[0mreplay\u001b[0m \u001b[0;34m=\u001b[0m \u001b[0mEnvReplayBuffer\u001b[0m\u001b[0;34m(\u001b[0m\u001b[0mmax_replay_buffer_size\u001b[0m\u001b[0;34m=\u001b[0m\u001b[0;36m100000\u001b[0m\u001b[0;34m,\u001b[0m \u001b[0menv\u001b[0m\u001b[0;34m=\u001b[0m\u001b[0menv\u001b[0m\u001b[0;34m)\u001b[0m\u001b[0;34m\u001b[0m\u001b[0;34m\u001b[0m\u001b[0m\n",
      "\u001b[0;31mNameError\u001b[0m: name 'gym' is not defined"
     ]
    }
   ],
   "source": [
    "# Collect some random data\n",
    "env = gym.make('HalfCheetahBulletEnv-v0')\n",
    "state = env.reset()\n",
    "\n",
    "replay = EnvReplayBuffer(max_replay_buffer_size=100000, env=env)\n",
    "\n",
    "for i in range(2):\n",
    "  current_state = env.reset()\n",
    "  terminal = 0\n",
    "  while not terminal:\n",
    "    action = np.random.uniform(-1, 1, size=6).astype(dtype=np.float32)\n",
    "    state, reward, terminal, info = env.step(action)\n",
    "    state = state.astype(dtype=np.float32)\n",
    "    reward = float(reward)\n",
    "    terminal = float(terminal)\n",
    "    replay.add_sample(observation=current_state, action=action, reward=reward, terminal=0,\n",
    "                   next_observation=state, env_info = info)\n",
    "    current_state = state\n",
    "\n",
    "policy_network = PolicyNetwork(hidden_sizes=[100,100], output_size=1, input_size=(2+16))\n",
    "q_network = QvalueNetwork(hidden_sizes=[100,100], input_size_state=2+16, input_size_action=1)\n",
    "policy_network_target = PolicyNetwork(hidden_sizes=[100,100], output_size=1, input_size=(2+16))\n",
    "q_network_target = QvalueNetwork(hidden_sizes=[100,100], input_size_state=2+16, input_size_action=1)\n",
    "message_root_network = MessageNetwork(hidden_sizes=[100, 100], output_size=16, input_size=8)\n",
    "message_network = MessageNetwork(hidden_sizes=[100, 100], output_size=16, input_size=(2+16))\n",
    "\n",
    "soft_update_from_to(policy_network, policy_network_target, 1.0)\n",
    "soft_update_from_to(q_network, q_network_target, 1.0)\n",
    "\n",
    "test_training = GCNLayerTrainer(policy=policy_network, value=q_network, message_root=message_root_network, message=message_network, policy_target=policy_network_target, value_target=q_network_target)\n",
    "\n",
    "policy_optimizer, value_optimizer = get_optimizer(value=q_network, message=message_network, message_root=message_root_network, policy=policy_network)\n",
    "\n",
    "g_train = dgl.DGLGraph()\n",
    "g_train.add_nodes(7)\n",
    "edge_list = [(0,1), (1,2), (2,3), (0,4), (4,5), (5,6)]\n",
    "src, dst = tuple(zip(*edge_list))\n",
    "g_train.add_edges(src, dst)\n",
    "\n",
    "\n",
    "\n",
    "execution_network = GCNLayer(policy=policy_network, value=q_network, message_root=message_root_network, message=message_network)\n",
    "execution_graph = dgl.DGLGraph()\n",
    "execution_graph.add_nodes(7)\n",
    "edge_list = [(0,1), (1,2), (2,3), (0,4), (4,5), (5,6)]\n",
    "src, dst = tuple(zip(*edge_list))\n",
    "execution_graph.add_edges(src, dst)\n",
    "execution_network.reset(execution_graph, 1)\n",
    "print(states_2.shape)\n",
    "for i in range(5):\n",
    "  action, value = execution_network(execution_graph, state)\n",
    "print(action.shape)\n",
    "print(value.shape)\n",
    "a = np.squeeze(action.data.numpy())\n",
    "a = a.transpose()"
   ]
  },
  {
   "cell_type": "code",
   "execution_count": null,
   "metadata": {
    "id": "Jf9CyZK8aO8N"
   },
   "outputs": [],
   "source": [
    "training(policy=policy_network, value=q_network, message=message_network, graph=g_train, graph_trainer=test_training, replay=replay, policy_optimizer=policy_optimizer, value_optimizer=value_optimizer, policy_target=policy_network_target, value_target=q_network_target)"
   ]
  },
  {
   "cell_type": "code",
   "execution_count": null,
   "metadata": {
    "id": "OwRBx8QSc25K"
   },
   "outputs": [],
   "source": [
    "for i in range(200):\n",
    "  current_state = env.reset()\n",
    "  terminal = 0\n",
    "  reward_all = 0\n",
    "  steps = 0\n",
    "  while not terminal:\n",
    "    execution_network.reset(execution_graph, 1)\n",
    "    for i in range(5):\n",
    "      action, value = execution_network(execution_graph, current_state)\n",
    "    a = np.squeeze(action.data.detach().numpy())\n",
    "    a = a.transpose()\n",
    "    a += np.random.normal(scale=0.2, size=6)\n",
    "    a = np.clip(a, -1,1)\n",
    "    # action = np.random.uniform(-1, 1, size=6).astype(dtype=np.float32)\n",
    "    state, reward, terminal, info = env.step(a)\n",
    "    state = state.astype(dtype=np.float32)\n",
    "    reward = float(reward)\n",
    "    reward_all += reward\n",
    "    steps += 1\n",
    "    terminal = float(terminal)\n",
    "    replay.add_sample(observation=current_state, action=a, reward=reward, terminal=0,\n",
    "                   next_observation=state, env_info = info)\n",
    "    current_state = state\n",
    "  print(reward_all/steps)\n",
    "  for i in range(100):\n",
    "    training(policy=policy_network, value=q_network, message=message_network, graph=g_train, graph_trainer=test_training, replay=replay, policy_optimizer=policy_optimizer, value_optimizer=value_optimizer, policy_target=policy_network_target, value_target=q_network_target)"
   ]
  },
  {
   "cell_type": "code",
   "execution_count": null,
   "metadata": {
    "id": "TIttGsanhuuD"
   },
   "outputs": [],
   "source": []
  }
 ],
 "metadata": {
  "colab": {
   "collapsed_sections": [],
   "name": "GraphNeuralTest.ipynb",
   "provenance": []
  },
  "kernelspec": {
   "display_name": "Python 3",
   "language": "python",
   "name": "python3"
  },
  "language_info": {
   "codemirror_mode": {
    "name": "ipython",
    "version": 3
   },
   "file_extension": ".py",
   "mimetype": "text/x-python",
   "name": "python",
   "nbconvert_exporter": "python",
   "pygments_lexer": "ipython3",
   "version": "3.8.5"
  }
 },
 "nbformat": 4,
 "nbformat_minor": 1
}
